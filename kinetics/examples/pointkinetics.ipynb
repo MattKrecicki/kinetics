{
 "cells": [
  {
   "cell_type": "markdown",
   "metadata": {},
   "source": [
    "# Kinetics"
   ]
  },
  {
   "cell_type": "markdown",
   "metadata": {},
   "source": [
    "Author: Matt Krecicki <br>\n",
    "Email: matthewkrecicki@gmail.com"
   ]
  },
  {
   "cell_type": "markdown",
   "metadata": {},
   "source": [
    "# Point Kinetics Solver"
   ]
  },
  {
   "cell_type": "markdown",
   "metadata": {},
   "source": [
    "##  Description"
   ]
  },
  {
   "cell_type": "markdown",
   "metadata": {},
   "source": [
    "Provides a numerical solution to the point kinetics equation with a specified total reactivity.\n",
    "\n",
    "The numerical method relies on a single prompt neutron population and user specific number of delayed neutron groups. The code uses the scipy odeint package and the numerical integrator.\n",
    "\n",
    "The example given in this notebook is based on the kinetic parameters detailed in: M. El-Genk, J. Tournier, \"A point kinetics model for dynamic simulations of next generation nuclear reactor\", Progress in Nuclear Energy, 92, (2016). http://dx.doi.org/10.1016/j.pnucene.2016.07.007"
   ]
  },
  {
   "cell_type": "markdown",
   "metadata": {},
   "source": [
    "##  Computational methodology"
   ]
  },
  {
   "cell_type": "markdown",
   "metadata": {},
   "source": [
    "This section describes the finite difference model used to solve the **steady-state conduction-convection model**. The formulation relies on the **resistance model**, according to which the temperature in each node $i$ is obtained by considering the heat transfer between multiple adjacent nodes. Denoting the node of interest as $i$ and the adjacent nodes as $j$, we can find the temperature in node $i$ using the following relation:\n",
    " \n",
    " \n",
    "\\begin{align}\n",
    "\\begin{split}\n",
    "T_i = \\frac{q_i + {\\sum}_{j}\\frac{T_j}{R_{ij}}}{{\\sum}_{j}\\frac{1}{R_{ij}}}\n",
    "\\end{split}\n",
    "\\end{align}\n",
    "\n",
    "where, $q_i$ is the heat produced in node $i$, and $R_{ij}$ is the resistance between the nodes $i$ and $j$. In the framework of our analysis, the resistance can take the form of conduction or convection. Each node $i$ has only two adjacent neighbors, i.e., left ($R_{i-}$) and right ($R_{i+}$) resistances. \n",
    "\n",
    "The cylinder is discretized into radial layers with thicknesses of $\\Delta r_i$. The volume of element $i$ is $\\Delta V_i = r_m\\Delta r_i \\Delta \\phi \\Delta z$. The heat produced in a specific layer $i$ is calculated by taking the product between the power density and the corresponding volume in layer $i$.   \n",
    "\n",
    "In cylindrical coordinate system, the **conduction resistances** are calculated according to the following relation. \n",
    "\n",
    "\\begin{align}\n",
    "\\begin{split}\n",
    "R_{i\\pm} = \\frac{\\Delta r_i}{\\left( r_m \\pm \\frac{\\Delta r_i}{2} \\right)\\Delta \\phi \\Delta z}\\frac{1}{k_{i\\pm}}\n",
    "\\end{split}\n",
    "\\end{align}\n",
    "\n",
    "It must be pointed out that for the innermost node (i.e., $i=1$), the resistance term is slightly modified due to the shorter distance to the boundary (inner surface temperature) as follows:\n",
    "\n",
    "\\begin{align}\n",
    "\\begin{split}\n",
    "R_{1-} = \\frac{\\Delta r_1/2}{\\left( r_m - \\frac{\\Delta r_1}{4} \\right)\\Delta \\phi \\Delta z}\\frac{1}{k_{1-}}\n",
    "\\end{split}\n",
    "\\end{align}\n",
    "\n",
    "The convection resistance is defined as follows:\n",
    "\n",
    "\\begin{align}\n",
    "\\begin{split}\n",
    "R_{0} = \\frac{1}{\\left( r_m - \\frac{\\Delta r_1}{2} \\right)\\Delta \\phi \\Delta z}\\frac{1}{h}\n",
    "\\end{split}\n",
    "\\end{align}\n",
    "\n",
    "Similarly, if the outer wall temperature boundary is given, the resistance term for the outermost node (i.e., $i=N$) becomes:\n",
    "\n",
    "\\begin{align}\n",
    "\\begin{split}\n",
    "R_{N+} = \\frac{\\bigtriangleup r_N/2}{\\left( r_m + \\frac{\\Delta r_N}{4} \\right)\\Delta \\phi \\Delta z}\\frac{1}{k_{N+}}\n",
    "\\end{split}\n",
    "  \\label{eqn:ResistanceEdge}\n",
    "\\end{align}\n",
    "\n",
    "However, this $R_{N+}$ equals to $\\infty$ in the case of adiabatic boundary conditions. \n",
    "\n",
    "Combining all these relations into a matrix from, the following tri-relation can be written in a matrix form:\n",
    "\n",
    "\\[ \\begin{bmatrix}\n",
    "    \\frac{1}{R_{0}}+\\frac{1}{R_{1-}} & -\\frac{1}{R_{1+}} & 0 & 0 & \\cdots & 0 \\\\\n",
    "    -\\frac{1}{R_{1-}} & \\frac{1}{R_{1-}}+\\frac{1}{R_{1+}} & -\\frac{1}{R_{1+}} & 0 & \\cdots & 0 \\\\ \n",
    "    \\vdots & \\cdots & \\ddots & \\ddots & \\cdots & \\vdots \\\\ \n",
    "    0 & \\cdots & 0 & -\\frac{1}{R_{(N-1)-}} & \\frac{1}{R_{(N-1)-}}+\\frac{1}{R_{(N-1)+}} & -\\frac{1}{R_{(N-1)+}}\\\\    \n",
    "    0 & \\cdots & 0 & 0 & -\\frac{1}{R_{N-}} & \\frac{1}{R_{N-}}+\\frac{1}{R_{N+}}\\\\     \n",
    "\\end{bmatrix}\n",
    "\\begin{bmatrix}\n",
    "    T_0 \\\\\n",
    "    T_1 \\\\\n",
    "    \\vdots \\\\\n",
    "    T_{N-1} \\\\\n",
    "    T_N  \\\\\n",
    "\\end{bmatrix}\n",
    "=\n",
    "\\begin{bmatrix}\n",
    "    q_0 + \\frac{T_{\\infty}}{R_{0}} \\\\\n",
    "    q_1 \\\\\n",
    "    \\vdots \\\\\n",
    "    q_{N-1} \\\\\n",
    "    q_N + \\frac{T_{w}}{R_{N+}} \\\\\n",
    "\\end{bmatrix} \\]\n",
    "\n"
   ]
  },
  {
   "cell_type": "markdown",
   "metadata": {},
   "source": [
    "##  pke:"
   ]
  },
  {
   "cell_type": "markdown",
   "metadata": {},
   "source": [
    "The following section provides the **inputs, and outputs** of the ``pke`` class"
   ]
  },
  {
   "cell_type": "markdown",
   "metadata": {},
   "source": [
    "### Inputs:"
   ]
  },
  {
   "cell_type": "markdown",
   "metadata": {},
   "source": [
    "The inputs of the point kinetics solver requires the a point kinetics input objective, which requires the following inputs.\n",
    "\n",
    "-    ``beta`` : 1darray\n",
    "        The delayed neutron precusor group yields, unitless parameter\n",
    "-    ``lamda`` : 1darray\n",
    "        The decay constant of each prescusor group, in units of 1/seconds\n",
    "-    ``prompt:`` : float\n",
    "        The mean generation time of prompt neutrons, in units of seconds\n",
    "-    ``P0`` : float\n",
    "        The inital reactor power, in units of watts\n",
    "-    ``volume`` : float\n",
    "        The volume of the fissioning region, in units of cubic meters\n",
    "-    ``Q`` : float\n",
    "        The average energy released per fission, in units of MeV/fission\n",
    "-    ``v`` : float\n",
    "        The average neutron velocity in the fissioning regions, in units of meters/second\n",
    "-    ``rhoext`` : class\n",
    "        Class that defines the total reactivity of the system as a function of time via the control rules class\n",
    "-    ``timepoints`` : 1darray\n",
    "        The array of points in time which the solution results are desired, in units of seconds.\n",
    "-    ``typ`` : str\n",
    "        Defines which type of input is being given to input container, is required to correctly perform error checking"
   ]
  },
  {
   "cell_type": "markdown",
   "metadata": {},
   "source": [
    "### Returns: "
   ]
  },
  {
   "cell_type": "markdown",
   "metadata": {},
   "source": [
    "Once the pke solver has been executed it adds a point kinetics output container instance to the solver class which contains the following.\n",
    "\n",
    "-    ``nt`` : ndarray, 1-dim\n",
    "        The total neutron population as a function of time, in units of neutrons\n",
    "-    ``dnt`` : ndarray, 2-dim\n",
    "        The total delayed neutron precusor population for each delayed group, in units of number of precusors.\n",
    "-    ``flux`` : float\n",
    "        The neutron flux within the fissioning region, in units of neutrons/cm2-s\n",
    "-    ``power`` : float\n",
    "        The power produced in the fissioning region, in units of watts\n",
    "-    ``rho`` : float\n",
    "        The excess reactivity of the system, in units of dk/k"
   ]
  },
  {
   "cell_type": "markdown",
   "metadata": {},
   "source": [
    "### Examples: "
   ]
  },
  {
   "cell_type": "markdown",
   "metadata": {},
   "source": [
    "<code>Python Code:\n",
    "    >>> rm, Ti, Ts, Q = HeatTransferSolver(radii=np.array([0.01, 0.02, 0.03]),\n",
    "    ...                        height=0.03,\n",
    "    ...                        powerdens=np.array([0, 10000, 20000]),\n",
    "    ...                        conductivity=np.array([13, 40]),\n",
    "    ...                        heattransfer=20000,\n",
    "    ...                        bulktemp=550.4,\n",
    "    ...                        walltemp=1654.0)\n",
    "</code>"
   ]
  },
  {
   "cell_type": "markdown",
   "metadata": {},
   "source": [
    "## The `plot1DTemperature` method "
   ]
  },
  {
   "cell_type": "markdown",
   "metadata": {},
   "source": [
    "Plot the 1D radial temperature distribution.\n",
    "\n",
    "The function is meant to be executed after the heat transfer solver \n",
    "is ran. The ``regions`` variable could be used to distinct between\n",
    "the different raidal regions via vertical lines added to the plot."
   ]
  },
  {
   "cell_type": "markdown",
   "metadata": {},
   "source": [
    "### Inputs:"
   ]
  },
  {
   "cell_type": "markdown",
   "metadata": {},
   "source": [
    "-    power : bool, optional\n",
    "        if ``power`` is `True` or not included the\n",
    "        power distribution is plotted, otherwise not\n",
    "-    temperature : bool, optional\n",
    "        if ``temperature`` is `True` or not included the\n",
    "        temperature distribution is plotted, otherwise not\n",
    "-    ax : axis instance, optional\n",
    "-    regions : ndarray, optional 1-dim array\n",
    "        radii values in meters for vertical lines separators"
   ]
  },
  {
   "cell_type": "markdown",
   "metadata": {},
   "source": [
    "### Example:"
   ]
  },
  {
   "cell_type": "markdown",
   "metadata": {},
   "source": [
    "<code>Python Code:\n",
    "    >>> ax1 = plot1DTemperature([0.001, 0.006], [400, 800], regions=[0.002, 0.003])\n",
    "</code>"
   ]
  },
  {
   "cell_type": "markdown",
   "metadata": {},
   "source": [
    "##  How to execute"
   ]
  },
  {
   "cell_type": "code",
   "execution_count": 1,
   "metadata": {},
   "outputs": [],
   "source": [
    "import os\n",
    "import sys\n",
    "sys.path.insert(0, os.path.abspath('..'))"
   ]
  },
  {
   "cell_type": "code",
   "execution_count": 2,
   "metadata": {},
   "outputs": [],
   "source": [
    "from functions.heattransfersolver import HeatTransferSolver, plot1DTemperature\n",
    "import numpy as np\n",
    "import matplotlib.pyplot as plt"
   ]
  },
  {
   "cell_type": "code",
   "execution_count": 3,
   "metadata": {},
   "outputs": [],
   "source": [
    "# Toy problem\n",
    "nr = 20                           \n",
    "ri = np.linspace(0.004, 0.09, nr)   # radii in meters\n",
    "dz = 0.01                           # height in meters\n",
    "ki = np.ones(nr-1)                  # conductivity values for each region\n",
    "ki[0:int(nr/2)], ki[int(nr/2):-1] =3, 20   \n",
    "qi = np.zeros(nr)                   # power density values for each region\n",
    "qi[int(nr/2):-1] = 100000 # W/m^3\n",
    "Tinf = 560 # kelvin                 # coolant bulk temperature\n",
    "h = 20000 # W/m^2/K                 # heat trasnfer coefficient\n",
    "Twall = None"
   ]
  },
  {
   "cell_type": "markdown",
   "metadata": {},
   "source": [
    "### Solve"
   ]
  },
  {
   "cell_type": "code",
   "execution_count": 4,
   "metadata": {},
   "outputs": [],
   "source": [
    "rm, Ti, Ts, qconv = HeatTransferSolver(radii=ri, height=dz, powerdens=qi, \n",
    "                        conductivity=ki, heattransfer=h, bulktemp=Tinf,\n",
    "                        walltemp=Twall)   "
   ]
  },
  {
   "cell_type": "code",
   "execution_count": 5,
   "metadata": {
    "scrolled": true
   },
   "outputs": [
    {
     "name": "stdout",
     "output_type": "stream",
     "text": [
      "The surface temperature is 563.3 kelvin\n",
      "The heat trasnferred to the coolant is 21.38 Watts\n"
     ]
    }
   ],
   "source": [
    "print(\"The surface temperature is {} kelvin\".format(round(Ts,1)))\n",
    "print(\"The heat trasnferred to the coolant is {} Watts\".format(round(qconv,2)))"
   ]
  },
  {
   "cell_type": "markdown",
   "metadata": {},
   "source": [
    "### Apply the `plot` method"
   ]
  },
  {
   "cell_type": "code",
   "execution_count": 6,
   "metadata": {},
   "outputs": [
    {
     "data": {
      "image/png": "[encoded data removed]",
      "text/plain": [
       "<matplotlib.figure.Figure at 0x1577fd596a0>"
      ]
     },
     "metadata": {
      "needs_background": "light"
     },
     "output_type": "display_data"
    }
   ],
   "source": [
    "ax1 = plot1DTemperature(rm, Ti, regions=[0.047])"
   ]
  },
  {
   "cell_type": "markdown",
   "metadata": {},
   "source": [
    "### Solve with an outer wall temperature"
   ]
  },
  {
   "cell_type": "code",
   "execution_count": 7,
   "metadata": {},
   "outputs": [
    {
     "data": {
      "image/png": "[encoded data removed]",
      "text/plain": [
       "<matplotlib.figure.Figure at 0x157000b57f0>"
      ]
     },
     "metadata": {
      "needs_background": "light"
     },
     "output_type": "display_data"
    }
   ],
   "source": [
    "Twall = 1000\n",
    "rm, Ti, Ts, qconv = HeatTransferSolver(radii=ri, height=dz, powerdens=qi, \n",
    "                        conductivity=ki, heattransfer=h, bulktemp=Tinf,\n",
    "                        walltemp=Twall)   \n",
    "ax1 = plot1DTemperature(rm, Ti, regions=[0.006, 0.047, 0.088])"
   ]
  },
  {
   "cell_type": "markdown",
   "metadata": {},
   "source": [
    "### Solve only with conduction"
   ]
  },
  {
   "cell_type": "markdown",
   "metadata": {},
   "source": [
    "**The problem can also only be defined as a conduction by setting the heat trasnfer to infinity**"
   ]
  },
  {
   "cell_type": "code",
   "execution_count": 8,
   "metadata": {},
   "outputs": [
    {
     "data": {
      "image/png": "[encoded data removed]",
      "text/plain": [
       "<matplotlib.figure.Figure at 0x15700034be0>"
      ]
     },
     "metadata": {
      "needs_background": "light"
     },
     "output_type": "display_data"
    }
   ],
   "source": [
    "import warnings\n",
    "warnings.filterwarnings('ignore')\n",
    "h = np.Inf # W/m^2/K    \n",
    "rm, Ti, Ts, qconv = HeatTransferSolver(radii=ri, height=dz, powerdens=qi, \n",
    "                        conductivity=ki, heattransfer=h, bulktemp=Tinf,\n",
    "                        walltemp=Twall)   \n",
    "ax1 = plot1DTemperature(rm, Ti, regions=[0.006, 0.047, 0.088])"
   ]
  },
  {
   "cell_type": "code",
   "execution_count": null,
   "metadata": {},
   "outputs": [],
   "source": []
  }
 ],
 "metadata": {
  "kernelspec": {
   "display_name": "Python 3 (ipykernel)",
   "language": "python",
   "name": "python3"
  },
  "language_info": {
   "codemirror_mode": {
    "name": "ipython",
    "version": 3
   },
   "file_extension": ".py",
   "mimetype": "text/x-python",
   "name": "python",
   "nbconvert_exporter": "python",
   "pygments_lexer": "ipython3",
   "version": "3.10.9"
  }
 },
 "nbformat": 4,
 "nbformat_minor": 2
}
